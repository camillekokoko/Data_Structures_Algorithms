{
 "cells": [
  {
   "cell_type": "code",
   "execution_count": null,
   "metadata": {},
   "outputs": [],
   "source": [
    "import pandas as pd\n",
    "import numpy as np"
   ]
  },
  {
   "cell_type": "markdown",
   "metadata": {
    "tags": []
   },
   "source": [
    "# <mark style=\"background: #801010; color: #ffffff;\" ></mark> NumPy Arrays"
   ]
  },
  {
   "cell_type": "markdown",
   "metadata": {},
   "source": [
    "\n",
    "Create a python program that has a 1-D array with 5 elements. It should contain the numbers 0 to 4 in sequence. Assign this array to `output1`."
   ]
  },
  {
   "cell_type": "code",
   "execution_count": 13,
   "metadata": {
    "tags": []
   },
   "outputs": [
    {
     "name": "stdout",
     "output_type": "stream",
     "text": [
      "[0 1 2 3 4]\n"
     ]
    }
   ],
   "source": [
    "import numpy as np\n",
    "\n",
    "# Write your solution here\n",
    "\n",
    "\n",
    "output1 = np.arange(5)\n",
    "print(output1)\n"
   ]
  },
  {
   "cell_type": "markdown",
   "metadata": {},
   "source": [
    "\n",
    "Create a python program that contains a 2-D array with 6 elements (2 rows and 3 columns) that represents the following array. Assign this array to `output2`.\n",
    "\n",
    "$$\\begin{bmatrix} 0 & 1 & 2 \\\\ 3 & 4 & 5 \\end{bmatrix}$$"
   ]
  },
  {
   "cell_type": "code",
   "execution_count": 11,
   "metadata": {
    "tags": []
   },
   "outputs": [
    {
     "name": "stdout",
     "output_type": "stream",
     "text": [
      "[[0 1 2]\n",
      " [3 4 5]]\n"
     ]
    }
   ],
   "source": [
    "import numpy as np\n",
    "\n",
    "# Write your solution here\n",
    "#output2 = np.array([[0,1,2], [3,4,5]])\n",
    "#print(output2)\n",
    "#rows, columns = output2.shape\n",
    "#print(rows,columns)\n",
    "output2 = np.arange(6).reshape(2,3)\n",
    "print(output2)"
   ]
  },
  {
   "cell_type": "markdown",
   "metadata": {},
   "source": [
    "Create a python program that has a 2-D array with 6 elements (3 rows and 2 columns) that represents the following array. Assign this array to `output3`.\n",
    "\n",
    "$$\\begin{bmatrix} 0 & 1 \\\\ 2 & 3 \\\\ 4 & 5 \\end{bmatrix}$$"
   ]
  },
  {
   "cell_type": "code",
   "execution_count": 12,
   "metadata": {
    "tags": []
   },
   "outputs": [
    {
     "name": "stdout",
     "output_type": "stream",
     "text": [
      "[[0 1]\n",
      " [2 3]\n",
      " [4 5]]\n"
     ]
    }
   ],
   "source": [
    "import numpy as np\n",
    "\n",
    "# Write your solution here\n",
    "output3 = np.arange(6).reshape(3,2)\n",
    "print(output3)\n"
   ]
  },
  {
   "cell_type": "markdown",
   "metadata": {},
   "source": [
    "\n",
    "Create a python program that has a 3-D array with 8 elements (2 rows and 2 columns, with a depth of 2) using the `zeros` function. Assign this array to `output4`."
   ]
  },
  {
   "cell_type": "code",
   "execution_count": 20,
   "metadata": {
    "tags": []
   },
   "outputs": [
    {
     "name": "stdout",
     "output_type": "stream",
     "text": [
      "[[[0. 0.]\n",
      "  [0. 0.]]\n",
      "\n",
      " [[0. 0.]\n",
      "  [0. 0.]]]\n"
     ]
    }
   ],
   "source": [
    "import numpy as np\n",
    "\n",
    "# Write your solution here\n",
    "output4 = np.zeros((2, 2, 2))\n",
    "print(output4)"
   ]
  },
  {
   "cell_type": "markdown",
   "metadata": {},
   "source": [
    "\n",
    "You are given a 2-D array of unknown size named `array5`. Create a python program that finds the size of that array and returns the number of rows."
   ]
  },
  {
   "cell_type": "code",
   "execution_count": 163,
   "metadata": {
    "tags": []
   },
   "outputs": [
    {
     "data": {
      "text/plain": [
       "3"
      ]
     },
     "execution_count": 163,
     "metadata": {},
     "output_type": "execute_result"
    }
   ],
   "source": [
    "import numpy as np\n",
    "\n",
    "def question05(array5):\n",
    "    size = array5.shape\n",
    "    rows, columns = array5.shape\n",
    "    return rows\n",
    "question05(np.arange(9).reshape(3,3))\n"
   ]
  },
  {
   "cell_type": "markdown",
   "metadata": {},
   "source": [
    "\n",
    "Create a python program that performs the following calculation using universal functions. Assign the result to `output6`.\n",
    "\n",
    "$$\\begin{bmatrix} 0 & 1 \\\\ 2 & 3 \\end{bmatrix} + \\begin{bmatrix} 0 & 1 \\\\ 2 & 3 \\end{bmatrix}$$"
   ]
  },
  {
   "cell_type": "code",
   "execution_count": 160,
   "metadata": {
    "tags": []
   },
   "outputs": [
    {
     "name": "stdout",
     "output_type": "stream",
     "text": [
      "[[0 2]\n",
      " [4 6]]\n"
     ]
    }
   ],
   "source": [
    "import numpy as np\n",
    "\n",
    "# Write your solution here\n",
    "output6_1 = np.array([[0,1],[2,3]])\n",
    "output6_2 = np.array([[0,1],[2,3]])\n",
    "output6 = np.add(output6_1, output6_2)\n",
    "print(output6)"
   ]
  },
  {
   "cell_type": "markdown",
   "metadata": {},
   "source": [
    "You are given two 2-D arrays of that are the same size (`array7_i` and `array7_ii`). Create a python program that multiplies the two arrays together using universal functions. Return a new array containing the result."
   ]
  },
  {
   "cell_type": "code",
   "execution_count": null,
   "metadata": {
    "tags": []
   },
   "outputs": [
    {
     "ename": "NameError",
     "evalue": "name 'array7_i' is not defined",
     "output_type": "error",
     "traceback": [
      "\u001b[0;31m---------------------------------------------------------------------------\u001b[0m",
      "\u001b[0;31mNameError\u001b[0m                                 Traceback (most recent call last)",
      "\u001b[0;32m/var/folders/_d/5jcr409x2n93clgd2fm55j5m0000gn/T/ipykernel_73639/4187907998.py\u001b[0m in \u001b[0;36m<module>\u001b[0;34m\u001b[0m\n\u001b[1;32m      6\u001b[0m     \u001b[0;31m# Write your solution here\u001b[0m\u001b[0;34m\u001b[0m\u001b[0;34m\u001b[0m\u001b[0m\n\u001b[1;32m      7\u001b[0m \u001b[0;34m\u001b[0m\u001b[0m\n\u001b[0;32m----> 8\u001b[0;31m \u001b[0mquestion07\u001b[0m\u001b[0;34m(\u001b[0m\u001b[0marray7_i\u001b[0m\u001b[0;34m,\u001b[0m \u001b[0marray7_ii\u001b[0m\u001b[0;34m)\u001b[0m\u001b[0;34m\u001b[0m\u001b[0;34m\u001b[0m\u001b[0m\n\u001b[0m",
      "\u001b[0;31mNameError\u001b[0m: name 'array7_i' is not defined"
     ]
    }
   ],
   "source": [
    "import numpy as np\n",
    "\n",
    "def question07(array7_i,array7_ii):\n",
    "    x = np.multiply(array7_i, array7_ii)\n",
    "    return x\n",
    "    # Write your solution here\n",
    "\n",
    "question07(array7_i, array7_ii)"
   ]
  },
  {
   "cell_type": "markdown",
   "metadata": {},
   "source": [
    "Create a python program that performs the following calculation using universal functions. Assign the result to `output8`.\n",
    "\n",
    "$$\\begin{bmatrix} 0 & 1 \\\\ 2 & 3 \\end{bmatrix} ** 3$$"
   ]
  },
  {
   "cell_type": "code",
   "execution_count": 159,
   "metadata": {
    "tags": []
   },
   "outputs": [
    {
     "name": "stdout",
     "output_type": "stream",
     "text": [
      "[[0 1]\n",
      " [2 3]]\n",
      "[[ 0  1]\n",
      " [ 8 27]]\n"
     ]
    }
   ],
   "source": [
    "import numpy as np\n",
    "\n",
    "# Write your solution here\n",
    "output8_i = np.array([[0,1],[2,3]])\n",
    "output8 = np.power(output8_i, 3)\n",
    "print(output8)"
   ]
  },
  {
   "cell_type": "markdown",
   "metadata": {},
   "source": [
    "Create a python program that has a 1-D array with 100 elements. It should contain the numbers 0, 2, 4, 6, all the way to 198 in sequence. Assign this array to `output9`."
   ]
  },
  {
   "cell_type": "code",
   "execution_count": 157,
   "metadata": {
    "tags": []
   },
   "outputs": [
    {
     "name": "stdout",
     "output_type": "stream",
     "text": [
      "[  0   2   4   6   8  10  12  14  16  18  20  22  24  26  28  30  32  34\n",
      "  36  38  40  42  44  46  48  50  52  54  56  58  60  62  64  66  68  70\n",
      "  72  74  76  78  80  82  84  86  88  90  92  94  96  98 100 102 104 106\n",
      " 108 110 112 114 116 118 120 122 124 126 128 130 132 134 136 138 140 142\n",
      " 144 146 148 150 152 154 156 158 160 162 164 166 168 170 172 174 176 178\n",
      " 180 182 184 186 188 190 192 194 196 198]\n"
     ]
    }
   ],
   "source": [
    "import numpy as np\n",
    "\n",
    "# Write your solution here\n",
    "output9 = np.arange(0,200,2)\n",
    "print(output9)\n"
   ]
  },
  {
   "cell_type": "markdown",
   "metadata": {},
   "source": [
    "Create a python program that has a 1-D array with 16 elements. It should contain the numbers 10, 20, 30, 40, all the way to 160 in sequence. Afterwards, change its shape using `reshape` to a 4-D array. Assign this reshaped array to `output10`.\n",
    "\n",
    "***\n",
    "<details>\n",
    "  <summary><span style=\"color:blue\">Click to see Hints</span></summary>\n",
    "   In one of the provided examples, you saw how a 2-D 3-by-3 array. Use that as a basis for reshaping into a 4-D 2-by-2-by-2-by-2 array. \n",
    "</details>"
   ]
  },
  {
   "cell_type": "code",
   "execution_count": 192,
   "metadata": {
    "tags": []
   },
   "outputs": [
    {
     "name": "stdout",
     "output_type": "stream",
     "text": [
      "[ 10  20  30  40  50  60  70  80  90 100 110 120 130 140 150 160]\n",
      "[[[[ 10  20]\n",
      "   [ 30  40]]\n",
      "\n",
      "  [[ 50  60]\n",
      "   [ 70  80]]]\n",
      "\n",
      "\n",
      " [[[ 90 100]\n",
      "   [110 120]]\n",
      "\n",
      "  [[130 140]\n",
      "   [150 160]]]]\n"
     ]
    }
   ],
   "source": [
    "import numpy as np\n",
    "\n",
    "# Write your solution here\n",
    "output10 = np.arange(10,161,10)\n",
    "print(output10)\n",
    "output10 = output10.reshape(2,2,2,2)\n",
    "print(output10)"
   ]
  },
  {
   "cell_type": "markdown",
   "metadata": {},
   "source": [
    "\n",
    "One of the most common models in statistics (and by extention data science) is the normal distribution. In order to graph a normal distribution first the mean and standard deviation of the data must be found. NumPy has functions that allow us to analyse data and obtain these values.\n",
    "\n",
    "You are given an array of unknown size and dimensions named `array11` that represents some data. Create a python program that finds the both the mean and standard deviation (rounded to 4 decimal points) of the data. Return the values in a dictionary of the following structure:\n",
    "```python\n",
    "{\n",
    "  \"mean\": some_value,\n",
    "  \"standard_deviation\": some_value\n",
    "}\n",
    "```"
   ]
  },
  {
   "cell_type": "code",
   "execution_count": 191,
   "metadata": {
    "tags": []
   },
   "outputs": [
    {
     "data": {
      "text/plain": [
       "2.582"
      ]
     },
     "execution_count": 191,
     "metadata": {},
     "output_type": "execute_result"
    }
   ],
   "source": [
    "import numpy as np\n",
    "\n",
    "def question11(array11):\n",
    "    mean = np.mean(array11)\n",
    "    standard_deviation = round(np.std(array11),4)\n",
    "    dict = {\"mean\": mean , \"standard_deviation\": standard_deviation}\n",
    "    return dict\n",
    "    # Write your solution here\n",
    "\n",
    "question11(np.array([1, 2, 3, 4, 5, 6, 7, 8, 9, 1, 2, 3, 4, 5, 6, 7, 8, 9]))['standard_deviation']\n"
   ]
  },
  {
   "cell_type": "markdown",
   "metadata": {},
   "source": [
    "\n",
    "You are given an 1-D array of unknown size named `array12`. Create a python program that finds both the first element and the smallest element in the array. Return the values in a dictionary of the following structure:\n",
    "```python\n",
    "{\n",
    "  \"first\": some_value,\n",
    "  \"smallest\": some_value\n",
    "}\n",
    "```"
   ]
  },
  {
   "cell_type": "code",
   "execution_count": 63,
   "metadata": {
    "tags": []
   },
   "outputs": [
    {
     "data": {
      "text/plain": [
       "{'first': 100, 'smallest': 100}"
      ]
     },
     "execution_count": 63,
     "metadata": {},
     "output_type": "execute_result"
    }
   ],
   "source": [
    "import numpy as np\n",
    "\n",
    "def question12(array12):\n",
    "    first_ele = array12[0]\n",
    "    smallest_ele = np.min(array12)\n",
    "    dict = {\"first\": first_ele , \"smallest\": smallest_ele}\n",
    "    return dict\n",
    "    # Write your solution here\n",
    "question12(np.arange(100,201,2))"
   ]
  },
  {
   "cell_type": "markdown",
   "metadata": {},
   "source": [
    "\n",
    "You are given an 2-D array of unknown size named `array13`. Create a python program that finds the first row of data and the maximum number within that row.  Return the values in a dictionary of the following structure:\n",
    "```python\n",
    "{\n",
    "  \"first_row\": some_value,\n",
    "  \"max_row_value\": some_value\n",
    "}\n",
    "```"
   ]
  },
  {
   "cell_type": "code",
   "execution_count": 244,
   "metadata": {
    "tags": []
   },
   "outputs": [
    {
     "data": {
      "text/plain": [
       "array([50, 64, 44, 77])"
      ]
     },
     "execution_count": 244,
     "metadata": {},
     "output_type": "execute_result"
    }
   ],
   "source": [
    "import numpy as np\n",
    "\n",
    "def question13(array13):\n",
    "    first_row = array13[0:1:,0::][0]\n",
    "    max_row = np.max(first_row)\n",
    "    dict_ = {\"first_row\": first_row , \"max_row_value\": max_row}\n",
    "    return dict_\n",
    "   \n",
    "question13(np.array([50,64,44,77,89,89,24,47,61,35,59,10,18,78,25,51,83,28,70,20,98,77,10,27,27,15,2,39,22,72,63,32,53,7,85,96,68,14,41,99,59,49,35,29,15,14,89,8,23,8,63,17,10,26,89,77,17,35,5,22,58,85,61,39,14,2,27,25,92,86,52,69,9,85,74,72,47,60,82,51,79,70,70,21,64,8,99,20,64,83,26,81,79,32,44,56,78,25,78,94]).reshape(25, 4))['first_row']"
   ]
  },
  {
   "cell_type": "markdown",
   "metadata": {},
   "source": [
    "\n",
    "You are given an 1-D array of unknown size named `array14`. Create a python program that finds the first 6 entries within that row. Next, split that array into two arrays using the `split` function. Return the values in a dictionary of the following structure:\n",
    "```python\n",
    "{\n",
    "  \"array\": first_6_entries,\n",
    "  \"part1\": split_first_half,\n",
    "  \"part2\": split_other_half\n",
    "}\n",
    "```"
   ]
  },
  {
   "cell_type": "code",
   "execution_count": 176,
   "metadata": {
    "tags": []
   },
   "outputs": [
    {
     "data": {
      "text/plain": [
       "array([ 5, 10, 15])"
      ]
     },
     "execution_count": 176,
     "metadata": {},
     "output_type": "execute_result"
    }
   ],
   "source": [
    "import numpy as np\n",
    "\n",
    "def question14(array14):\n",
    "    array = array14[0:6]\n",
    "    part1, part2 = np.split(array,2)\n",
    "    dict = {\"array\": array , \"part1\": part1, \"part2\":part2 }\n",
    "    return dict\n",
    "   \n",
    "question14(np.arange(-10, 50, 5))['part2']\n"
   ]
  },
  {
   "cell_type": "markdown",
   "metadata": {},
   "source": [
    "\n",
    "You are given an 1-D array of 40 elements named `array15`. Create a python program that finds every second element starting from index 4 and stopping before index 20. Return the result."
   ]
  },
  {
   "cell_type": "code",
   "execution_count": 172,
   "metadata": {
    "tags": []
   },
   "outputs": [
    {
     "data": {
      "text/plain": [
       "array([-80, -70, -60, -50, -40, -30, -20, -10])"
      ]
     },
     "execution_count": 172,
     "metadata": {},
     "output_type": "execute_result"
    }
   ],
   "source": [
    "import numpy as np\n",
    "\n",
    "def question15(array15):\n",
    "    z = array15[4:20:2 ]\n",
    "    return z\n",
    "   \n",
    "question15(np.arange(-100, 100, 5))\n"
   ]
  },
  {
   "cell_type": "markdown",
   "metadata": {},
   "source": [
    "\n",
    "You are given 2 sorted 1-D arrays of 20 elements named `array16_i` and `array16_ii`. Create a python program that concatenates these two arrays by appending `array16_ii` to the end of `array16_i`. Afterwards, sort the new array.\n",
    "Return both the unsorted concatenated array, and the sorted array in a dictionary of the following structure:\n",
    "```python\n",
    "{\n",
    "  \"concat\": concatenated_array,\n",
    "  \"sorted\": sorted_array\n",
    "}\n",
    "```"
   ]
  },
  {
   "cell_type": "code",
   "execution_count": 89,
   "metadata": {
    "tags": []
   },
   "outputs": [
    {
     "data": {
      "text/plain": [
       "{'concat': array([100, 101, 102, 103, 100, 101, 102, 103]),\n",
       " 'sorted': array([100, 100, 101, 101, 102, 102, 103, 103])}"
      ]
     },
     "execution_count": 89,
     "metadata": {},
     "output_type": "execute_result"
    }
   ],
   "source": [
    "import numpy as np\n",
    "\n",
    "def question16(array16_i, array16_ii):\n",
    "    concat_array = np.concatenate([array16_i,array16_ii])\n",
    "    sorted_array = np.sort(concat_array)\n",
    "    dict = {\"concat\": concat_array , \"sorted\": sorted_array}\n",
    "    return dict\n",
    "   \n",
    "question16(np.arange(100,104), np.arange(100,104))   "
   ]
  },
  {
   "cell_type": "markdown",
   "metadata": {},
   "source": [
    "\n",
    "Create a python program that:\n",
    "\n",
    "1. initializes two arrays using the `arange` function followed by the `reshape` functions.\n",
    "   1. The first array should have 2 rows and 5 columns and contain the numbers 0, 1, 2, up to and including 9.\n",
    "   2. The second array should  have 2 rows and 3 columns and contain the numbers 1, 3, 5, up to and including 11.\n",
    "2. concatenates these two arrays by appending along the column axis (creating an array with 2 rows and 8 columns), then transposes the result (creating an array with 8 rows and 2 columns).\n",
    "\n",
    "Assign the end result to `output17`."
   ]
  },
  {
   "cell_type": "code",
   "execution_count": 97,
   "metadata": {
    "tags": []
   },
   "outputs": [
    {
     "name": "stdout",
     "output_type": "stream",
     "text": [
      "[[ 0  5]\n",
      " [ 1  6]\n",
      " [ 2  7]\n",
      " [ 3  8]\n",
      " [ 4  9]\n",
      " [ 1  7]\n",
      " [ 3  9]\n",
      " [ 5 11]]\n"
     ]
    }
   ],
   "source": [
    "# Write your solution here\n",
    "output17 = np.transpose(np.hstack([np.arange(10).reshape(2,5),np.arange(1,12,2).reshape(2,3)]))\n",
    "print(output17)"
   ]
  },
  {
   "cell_type": "markdown",
   "metadata": {},
   "source": [
    "\n",
    "Create a python program that:\n",
    "\n",
    "1. initializes two arrays using the `arange` function followed by the `reshape` functions.\n",
    "   1. The first array should have 4 rows and 2 columns and contain the numbers 0, 1, 2, up to 7.\n",
    "   2. The second array should have 3 rows and 2 columns and contain the numbers 0, 5, 10, up to 11.\n",
    "2. concatenates these two arrays by appending along the row axis.\n",
    "3. afterwards, reshape the new array into a 1-D array and sort it in decending order.\n",
    "\n",
    "Assign the end result to `output18`."
   ]
  },
  {
   "cell_type": "code",
   "execution_count": 252,
   "metadata": {
    "tags": []
   },
   "outputs": [
    {
     "name": "stdout",
     "output_type": "stream",
     "text": [
      "[11  9  7  7  6  5  5  4  3  3  2  1  1  0]\n"
     ]
    }
   ],
   "source": [
    "# Write your solution here\n",
    "output18 = -np.sort(-(np.vstack([np.arange(8).reshape(4,2),np.arange(1,12,2).reshape(3,2)])).reshape(1,14))\n",
    "output18 = output18[0]\n",
    "print(output18)"
   ]
  },
  {
   "cell_type": "markdown",
   "metadata": {},
   "source": [
    "\n",
    "Create a python program that:\n",
    "\n",
    "1. initializes two 2-D arrays as depicted below.\n",
    "$$a1 = \\begin{bmatrix} 70 & 51 & 89 \\\\ 42 & 15 & 8 \\end{bmatrix}, a2 = \\begin{bmatrix} 75 & 12 & 38 \\\\ 99 & 75 & 45 \\end{bmatrix}$$\n",
    "2. performs integer division, by dividing the elements of a1 by a2. Assign this result to `output19_i`.\n",
    "3. sums the three arrays together. Assign this result to `output19_ii`, also assign a copy of the second row to `output19_iii`.\n"
   ]
  },
  {
   "cell_type": "code",
   "execution_count": 246,
   "metadata": {
    "tags": []
   },
   "outputs": [
    {
     "name": "stdout",
     "output_type": "stream",
     "text": [
      "[[0 4 2]\n",
      " [0 0 0]]\n",
      "[[145  63 127]\n",
      " [141  90  53]]\n",
      "[141  90  53]\n"
     ]
    }
   ],
   "source": [
    "# Write your solution here\n",
    "a1 = np.array([[70,51,89], [42,15,8]])\n",
    "a2 = np.array([[75,12,38], [99,75,45]])\n",
    "a1,a2\n",
    "output19_i = np.floor_divide(a1,a2)\n",
    "print(output19_i)\n",
    "output19_ii = np.add(a1,a2,output19_i)\n",
    "print(output19_ii)\n",
    "output19_iii = output19_ii[1::].copy()[0]\n",
    "print(output19_iii)"
   ]
  },
  {
   "cell_type": "markdown",
   "metadata": {},
   "source": [
    "\n",
    "Create a python program that:\n",
    "\n",
    "1. initializes two 2-D arrays as depicted below.\n",
    "$$a1 = \\begin{bmatrix} 48 & 75 & 75 \\\\ 15 & 2 & 46 \\end{bmatrix}, a2 = \\begin{bmatrix} 78 & 15 & 87 \\\\ 0 & 61 & 9 \\end{bmatrix}$$\n",
    "2. multiplies the two arrays together, then slice the result to only assign the last column to `output20` (note: an n-row, 1-column array automatically converts into a 1-row, n-column array, leave your answer like this).\n"
   ]
  },
  {
   "cell_type": "code",
   "execution_count": 245,
   "metadata": {
    "tags": []
   },
   "outputs": [
    {
     "name": "stdout",
     "output_type": "stream",
     "text": [
      "[6525  414]\n"
     ]
    }
   ],
   "source": [
    "# Write your solution here\n",
    "a1 = np.array([[48,75,75], [15,2,46]])\n",
    "a2 = np.array([[78,15,87], [0,61,9]])\n",
    "a1,a2\n",
    "output20 = np.multiply(a1,a2)\n",
    "output20 = output20[0:2,2:3]\n",
    "output20 = output20.reshape(1,2)[0]\n",
    "print(output20)"
   ]
  },
  {
   "cell_type": "code",
   "execution_count": null,
   "metadata": {},
   "outputs": [],
   "source": []
  }
 ],
 "metadata": {
  "kernelspec": {
   "display_name": "Python 3 (ipykernel)",
   "language": "python",
   "name": "python3"
  },
  "language_info": {
   "codemirror_mode": {
    "name": "ipython",
    "version": 3
   },
   "file_extension": ".py",
   "mimetype": "text/x-python",
   "name": "python",
   "nbconvert_exporter": "python",
   "pygments_lexer": "ipython3",
   "version": "3.9.7"
  },
  "otter": {
   "tests": {
    "q1": {
     "name": "q1",
     "points": 1,
     "suites": [
      {
       "cases": [],
       "scored": true,
       "setup": "",
       "teardown": "",
       "type": "doctest"
      }
     ]
    },
    "q10": {
     "name": "q10",
     "points": 4,
     "suites": [
      {
       "cases": [],
       "scored": true,
       "setup": "",
       "teardown": "",
       "type": "doctest"
      }
     ]
    },
    "q11": {
     "name": "q11",
     "points": 6,
     "suites": [
      {
       "cases": [],
       "scored": true,
       "setup": "",
       "teardown": "",
       "type": "doctest"
      }
     ]
    },
    "q12": {
     "name": "q12",
     "points": 6,
     "suites": [
      {
       "cases": [],
       "scored": true,
       "setup": "",
       "teardown": "",
       "type": "doctest"
      }
     ]
    },
    "q13": {
     "name": "q13",
     "points": 6,
     "suites": [
      {
       "cases": [],
       "scored": true,
       "setup": "",
       "teardown": "",
       "type": "doctest"
      }
     ]
    },
    "q14": {
     "name": "q14",
     "points": 6,
     "suites": [
      {
       "cases": [],
       "scored": true,
       "setup": "",
       "teardown": "",
       "type": "doctest"
      }
     ]
    },
    "q15": {
     "name": "q15",
     "points": 6,
     "suites": [
      {
       "cases": [],
       "scored": true,
       "setup": "",
       "teardown": "",
       "type": "doctest"
      }
     ]
    },
    "q16": {
     "name": "q16",
     "points": 6,
     "suites": [
      {
       "cases": [],
       "scored": true,
       "setup": "",
       "teardown": "",
       "type": "doctest"
      }
     ]
    },
    "q17": {
     "name": "q17",
     "points": 8,
     "suites": [
      {
       "cases": [],
       "scored": true,
       "setup": "",
       "teardown": "",
       "type": "doctest"
      }
     ]
    },
    "q18": {
     "name": "q18",
     "points": 8,
     "suites": [
      {
       "cases": [],
       "scored": true,
       "setup": "",
       "teardown": "",
       "type": "doctest"
      }
     ]
    },
    "q19": {
     "name": "q19",
     "points": 12,
     "suites": [
      {
       "cases": [],
       "scored": true,
       "setup": "",
       "teardown": "",
       "type": "doctest"
      }
     ]
    },
    "q2": {
     "name": "q2",
     "points": 1,
     "suites": [
      {
       "cases": [],
       "scored": true,
       "setup": "",
       "teardown": "",
       "type": "doctest"
      }
     ]
    },
    "q20": {
     "name": "q20",
     "points": 12,
     "suites": [
      {
       "cases": [],
       "scored": true,
       "setup": "",
       "teardown": "",
       "type": "doctest"
      }
     ]
    },
    "q3": {
     "name": "q3",
     "points": 1,
     "suites": [
      {
       "cases": [],
       "scored": true,
       "setup": "",
       "teardown": "",
       "type": "doctest"
      }
     ]
    },
    "q4": {
     "name": "q4",
     "points": 1,
     "suites": [
      {
       "cases": [],
       "scored": true,
       "setup": "",
       "teardown": "",
       "type": "doctest"
      }
     ]
    },
    "q5": {
     "name": "q5",
     "points": 2,
     "suites": [
      {
       "cases": [],
       "scored": true,
       "setup": "",
       "teardown": "",
       "type": "doctest"
      }
     ]
    },
    "q6": {
     "name": "q6",
     "points": 2,
     "suites": [
      {
       "cases": [],
       "scored": true,
       "setup": "",
       "teardown": "",
       "type": "doctest"
      }
     ]
    },
    "q7": {
     "name": "q7",
     "points": 4,
     "suites": [
      {
       "cases": [],
       "scored": true,
       "setup": "",
       "teardown": "",
       "type": "doctest"
      }
     ]
    },
    "q8": {
     "name": "q8",
     "points": 4,
     "suites": [
      {
       "cases": [],
       "scored": true,
       "setup": "",
       "teardown": "",
       "type": "doctest"
      }
     ]
    },
    "q9": {
     "name": "q9",
     "points": 4,
     "suites": [
      {
       "cases": [],
       "scored": true,
       "setup": "",
       "teardown": "",
       "type": "doctest"
      }
     ]
    }
   }
  },
  "varInspector": {
   "cols": {
    "lenName": 16,
    "lenType": 16,
    "lenVar": 40
   },
   "kernels_config": {
    "python": {
     "delete_cmd_postfix": "",
     "delete_cmd_prefix": "del ",
     "library": "var_list.py",
     "varRefreshCmd": "print(var_dic_list())"
    },
    "r": {
     "delete_cmd_postfix": ") ",
     "delete_cmd_prefix": "rm(",
     "library": "var_list.r",
     "varRefreshCmd": "cat(var_dic_list()) "
    }
   },
   "types_to_exclude": [
    "module",
    "function",
    "builtin_function_or_method",
    "instance",
    "_Feature"
   ],
   "window_display": false
  }
 },
 "nbformat": 4,
 "nbformat_minor": 4
}
