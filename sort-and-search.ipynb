{
 "cells": [
  {
   "cell_type": "markdown",
   "metadata": {
    "tags": []
   },
   "source": [
    "# <mark style=\"background: #2dc26b; color: #ffffff;\" >&nbsp;&nbsp;</mark>&ensp;Sorting and Searching\n",
    "\n"
   ]
  },
  {
   "cell_type": "markdown",
   "metadata": {},
   "source": [
    "\n",
    "Write a function defined as:\n",
    "```python\n",
    "def reverse_linear (un_list, match):\n",
    "```\n",
    "that performs a linear search on the list from the last element to the first returning the index of the first matching element or False if not found.\n",
    "\n",
    "For example:\n",
    "```python\n",
    "reverse_linear ([7, 7]) == 1\n",
    "```"
   ]
  },
  {
   "cell_type": "code",
   "execution_count": null,
   "metadata": {
    "tags": []
   },
   "outputs": [],
   "source": [
    "def reverse_linear (un_list, match):\n",
    "    # Write your solution here\n",
    "    index = len(un_list)-1 #from right to left\n",
    "    found = False\n",
    "    if len(un_list) == 0:\n",
    "        return False\n",
    "    elif match not in un_list:\n",
    "        return False\n",
    "    else:\n",
    "        while not found and index < len(un_list):\n",
    "            if un_list[index] == match:             \n",
    "                found = True\n",
    "            else:             \n",
    "                index = index - 1  #move to the next element on the left\n",
    "        return index\n",
    "reverse_linear ([2, 5, 7, 1, 0, 7], 11)\n"
   ]
  },
  {
   "cell_type": "code",
   "execution_count": null,
   "metadata": {},
   "outputs": [],
   "source": [
    "# def reverse_linear1(un_list, match):\n",
    "#     for i in range(len(un_list)-1, 0, -1):\n",
    "#         if un_list[i] == match:\n",
    "#             return i\n",
    "# reverse_linear1([7, 7], 7)"
   ]
  },
  {
   "cell_type": "markdown",
   "metadata": {},
   "source": [
    "\n",
    "Write a function defined as:\n",
    "```python\n",
    "def selection_sort_n (un_list, n):\n",
    "```\n",
    "that uses **selection sort** to sort a list in-place ascending from un_list[0] and performs **exactly** ‘n’ swaps. i.e.: the function terminates (returns) when ‘n’ swaps have been performed.\n",
    "\n",
    "For example:\n",
    "```python\n",
    "selection_sort_n ([27, 12, 23, 1, 19, 14], 1) == [14, 12, 23, 1, 19, 27]\n",
    "```"
   ]
  },
  {
   "cell_type": "code",
   "execution_count": 11,
   "metadata": {
    "scrolled": true
   },
   "outputs": [],
   "source": [
    "def selection_sort_n(un_list, n):\n",
    "    # Write your solution here\n",
    "    swap_count = 0\n",
    "    for slot in range(0, len(un_list)):\n",
    "        if swap_count == n:\n",
    "            #print(\"swap_count:\", swap_count)\n",
    "            #return un_list\n",
    "            break\n",
    "        max_index = 0\n",
    "        for location in range(1, len(un_list)):\n",
    "            \n",
    "            if un_list[location] > un_list[max_index]:\n",
    "                max_index = location\n",
    "                \n",
    "        #print('slot: ', slot, ' un_list[slot]: ',un_list[slot], ' max_index: ',max_index, ' un_list[max_index]: ', un_list[max_index] )\n",
    "        swap_slot = len(un_list) -1 - slot\n",
    "        un_list[swap_slot], un_list[max_index] = un_list[max_index], un_list[swap_slot]\n",
    "        #print('after swap : ', un_list)\n",
    "        swap_count += 1\n",
    "        "
   ]
  },
  {
   "cell_type": "code",
   "execution_count": null,
   "metadata": {},
   "outputs": [],
   "source": [
    "# def selection_sort_n(un_list, n):\n",
    "#     # Write your solution here\n",
    "#     swap_count = 0\n",
    "#     for slot in range(0, len(un_list)):\n",
    "#         if swap_count == n:\n",
    "#             #print(\"swap_count:\", swap_count)\n",
    "#             #return un_list\n",
    "#             break\n",
    "#         max_index = 0\n",
    "#         for location in range(1, len(un_list)):\n",
    "            \n",
    "#             if un_list[location] > un_list[max_index]:\n",
    "#                 max_index = location\n",
    "                \n",
    "#         #print('slot: ', slot, ' un_list[slot]: ',un_list[slot], ' max_index: ',max_index, ' un_list[max_index]: ', un_list[max_index] )\n",
    "#         swap_slot = len(un_list) -1 - slot\n",
    "#         un_list[swap_slot], un_list[max_index] = un_list[max_index], un_list[swap_slot]\n",
    "#         #print('after swap : ', un_list)\n",
    "#         swap_count += 1\n",
    "        \n",
    "#     #print(un_list)\n",
    "#     return un_list\n",
    "      \n",
    "# selection_sort_n (l, 2)"
   ]
  },
  {
   "cell_type": "markdown",
   "metadata": {
    "tags": []
   },
   "source": [
    "\n",
    "Write a function defined as:\n",
    "```python\n",
    "def bubble_sort_n (un_list, n):\n",
    "```\n",
    "that applies an in-place **bubble sort** for exactly 'n' iterations. i.e.: the function terminates (returns) after the n'th iteration of the sort.\n",
    "\n",
    "For example:\n",
    "```python\n",
    "bubble_sort_n ([27, 13, 23, 1, 12, 14], 2) == [13, 1, 12, 14, 23, 27]\n",
    "```"
   ]
  },
  {
   "cell_type": "code",
   "execution_count": 6,
   "metadata": {
    "tags": []
   },
   "outputs": [
    {
     "data": {
      "text/plain": [
       "[27, 13, 23, 1, 12, 14]"
      ]
     },
     "execution_count": 6,
     "metadata": {},
     "output_type": "execute_result"
    }
   ],
   "source": [
    "def bubble_sort_n (un_list, n):\n",
    "    iteration_count = 0\n",
    "    for i in range(0, len(un_list)):\n",
    "        if iteration_count == n:\n",
    "            break\n",
    "        for j in range(i): \n",
    "            if un_list[j] > un_list[j + 1]:\n",
    "                iteration_count = len(un_list)-1-i\n",
    "                un_list[j], un_list[j + 1] = un_list[j + 1], un_list[j]\n",
    "    \n",
    "    iteration_count += 1\n",
    "bubble_sort_n([27, 13, 23, 1, 12, 14], 0)"
   ]
  },
  {
   "cell_type": "markdown",
   "metadata": {},
   "source": [
    "\n",
    "Write a function defined as:\n",
    "```python\n",
    "def weighted_binary_search (or_list, match):\n",
    "```\n",
    "that performs a **iterative binary search** on an ordered list of ints that returns the (index * value) or False if the element is not found.\n",
    "\n",
    "For example:\n",
    "```python\n",
    "weighted_binary_search ([0, 3, 6], 6) == 12 # because (value) = 6 * (index) 2\n",
    "```"
   ]
  },
  {
   "cell_type": "code",
   "execution_count": null,
   "metadata": {
    "tags": []
   },
   "outputs": [],
   "source": [
    "def weighted_binary_search (or_list, match):\n",
    "    # Write your solution here\n",
    "    low = 0\n",
    "    high = len(or_list) - 1\n",
    "    #mid = 0\n",
    " \n",
    "    while low <= high:\n",
    " \n",
    "        mid = (high + low) // 2\n",
    " \n",
    "        # If match is greater, ignore left half\n",
    "        if or_list[mid] < match:\n",
    "            low = mid + 1\n",
    " \n",
    "        # If x is smaller, ignore right half\n",
    "        elif or_list[mid] > match:\n",
    "            high = mid - 1\n",
    " \n",
    "        # means x is present at mid\n",
    "        else:\n",
    "            return mid * match\n",
    " \n",
    "    # If we reach here, then the element was not present\n",
    "    return False\n",
    " \n",
    "weighted_binary_search ([], 40)\n",
    "\n"
   ]
  },
  {
   "cell_type": "markdown",
   "metadata": {},
   "source": [
    "\n",
    "Write a function defined as:\n",
    "```python\n",
    "def num_matches_jump_search (or_list, match, jump = 1):\n",
    "```\n",
    "\n",
    "that implements a **jump search** that takes the size of the jump as an input parameter. The search should return the number of items in the ordered list that match the search value (rather than the index) or False if the item was not found.\n",
    "\n",
    "For example:\n",
    "```python\n",
    "num_matches_jump_search ([0, 2, 3, 5, 5, 6, 8, 11, 12, 12, 12], 5, 2) == 2\n",
    "```"
   ]
  },
  {
   "cell_type": "code",
   "execution_count": 4,
   "metadata": {},
   "outputs": [
    {
     "data": {
      "text/plain": [
       "2"
      ]
     },
     "execution_count": 4,
     "metadata": {},
     "output_type": "execute_result"
    }
   ],
   "source": [
    "import math\n",
    "def num_matches_jump_search (or_list, match, jump=3 ):\n",
    "    # Write your solution here\n",
    "    length = len(or_list)\n",
    "    #jump = int(math.sqrt(length))\n",
    "    left, right = 0, 0\n",
    "    count = 0\n",
    "    while left < length and or_list[left] <= match:\n",
    "        right = min(length - 1, left + jump)\n",
    "        if or_list[left] <= match and or_list[right] >= match:\n",
    "            break\n",
    "        left += jump;\n",
    "    if left >= length or or_list[left] > match:\n",
    "        return False\n",
    "    right = min(length - 1, right)\n",
    "    i = left\n",
    "    \n",
    "    while i <= right and or_list[i] <= match:\n",
    "        if or_list[i] == match:   \n",
    "            count +=1\n",
    "        i += 1\n",
    "    if count > 0:\n",
    "        return count \n",
    "                \n",
    "l = [0, 1, 2, 3, 5, 5, 6, 8, 10, 11, 12, 12, 12]\n",
    "\n",
    "num_matches_jump_search (l, 5)\n",
    "\n"
   ]
  },
  {
   "cell_type": "markdown",
   "metadata": {},
   "source": [
    "\n",
    "Write a function defined as:\n",
    "```python\n",
    "def sort_dict_by_value (un_dict):\n",
    "```\n",
    "that performs a sort of any type that sorts a dict by value in-place while retaining identical keys.\n",
    "\n",
    "For example, given a dictionary:\n",
    "```python\n",
    "d = {\n",
    "    1: 101,\n",
    "    2: 2,\n",
    "    8: -1,\n",
    "}\n",
    "```\n",
    "would be sorted as:\n",
    "```python\n",
    "d = {\n",
    "    1: -1,\n",
    "    2: 2,\n",
    "    8: 101,\n",
    "}\n",
    "```"
   ]
  },
  {
   "cell_type": "code",
   "execution_count": null,
   "metadata": {
    "tags": []
   },
   "outputs": [],
   "source": [
    "# def sort_dict_by_value (un_dict):\n",
    "#     # Write your solution here\n",
    "    \n",
    "#     new_value = []\n",
    "#     vk_dict =  dict(sorted((v,k) for (k,v) in un_dict.items()))\n",
    "#     count = 0\n",
    "#     for i in un_dict:\n",
    "#         un_dict[i] = new_value[count]\n",
    "#         count+=1\n",
    "# d = {\n",
    "#     1: 101,\n",
    "#     2: 2,\n",
    "#     8: -1,\n",
    "# }\n",
    "# sort_dict_by_value(d)\n",
    "\n",
    "\n"
   ]
  },
  {
   "cell_type": "code",
   "execution_count": null,
   "metadata": {},
   "outputs": [],
   "source": [
    "# def sort_dict_by_value (un_dict):\n",
    "#     new_key = []\n",
    "#     for k in un_dict.keys():\n",
    "#         new_key.append(k)\n",
    "        \n",
    "#     new_value = []\n",
    "#     for v in un_dict.values():\n",
    "#         new_value.append(v)\n",
    "    \n",
    "#     def quicksort(array, first, last):\n",
    "#         if first >= last:\n",
    "#             return\n",
    "\n",
    "#         i, j = first, last\n",
    "#         pivot = array[last]\n",
    "\n",
    "#         while i <= j:\n",
    "#             while array[i] < pivot:\n",
    "#                 i += 1\n",
    "#             while array[j] > pivot:\n",
    "#                 j -= 1\n",
    "\n",
    "#             if i <= j:\n",
    "#                 array[i], array[j] = array[j], array[i]\n",
    "#                 i, j = i + 1, j - 1\n",
    "#         quicksort(array, first, j)\n",
    "#         quicksort(array, i, last)\n",
    "#         return array\n",
    "#     quicksort(new_value, 0, len(new_value)-1)\n",
    "#     new_dict = dict(zip(new_key,new_value))\n",
    "    \n",
    "#     return new_dict\n",
    "# val_dict = [101,2,-1]\n",
    "# quicksort(val_dict, 0, len(val_dict)-1)\n",
    "# d = {\n",
    "#     1: 101,\n",
    "#     2: 2,\n",
    "#     8: -1,\n",
    "# }\n",
    "# sort_dict_by_value(d)"
   ]
  },
  {
   "cell_type": "code",
   "execution_count": 2,
   "metadata": {},
   "outputs": [
    {
     "data": {
      "text/plain": [
       "True"
      ]
     },
     "execution_count": 2,
     "metadata": {},
     "output_type": "execute_result"
    }
   ],
   "source": [
    "def sort_dict_by_value (un_dict):\n",
    "    val = []\n",
    "    for i in un_dict.values():\n",
    "        val.append(i)\n",
    "    last_element_index = len(val) - 1\n",
    "    for pass_number in range(last_element_index, 0, -1):\n",
    "        for index in range(pass_number):\n",
    "            if val[index] > val[index + 1]:\n",
    "                val[index], val[index + 1] = val[index + 1], val[index]\n",
    "    count = 0\n",
    "    for i in un_dict:\n",
    "        un_dict[i] = val[count]\n",
    "        count+=1\n",
    "\n",
    "\n"
   ]
  },
  {
   "cell_type": "markdown",
   "metadata": {},
   "source": [
    "\n",
    "Write a function defined as:\n",
    "```python\n",
    "def median_quicksort_by_string_length (str_list):\n",
    "```   \n",
    "\n",
    "that implements a recursive **quicksort** that sorts a list of capitalised names by length using the median partition scheme. In calculating the pivot index, the first letter of each name is given a weighting according to its index in this list:\n",
    "\n",
    "```python\n",
    "alphabet_list = list(string.ascii_uppercase)\n",
    "```\n",
    "Thus, in a list like:\n",
    "```python\n",
    "[\"Majid\", \"Victoria\", \"Tashreque\", \"Xiefeng\", \"Fu\", \"Biao\", \"Rui\"]\n",
    "```\n",
    "in calculating the pivot, we take the median of 12, 23 & 17 as our first pivot.\n",
    "\n",
    "When sorted in-place, the str_list is:\n",
    "```python\n",
    "['Fu', 'Rui', 'Biao', 'Majid', 'Pranav', 'Xiefeng', 'Victoria', 'Tashreque']\n",
    "```"
   ]
  },
  {
   "cell_type": "code",
   "execution_count": null,
   "metadata": {
    "scrolled": true
   },
   "outputs": [],
   "source": [
    "import string\n",
    "alphabet_list = list(string.ascii_uppercase)\n",
    "print(alphabet_list[12])\n",
    "print(alphabet_list[23])\n",
    "print(alphabet_list[17])\n",
    "a_list = [\"Majid\", \"Victoria\", \"Tashreque\", \"Xiefeng\", \"Fu\", \"Biao\", \"Rui\"]\n",
    "a_list_upper = [n.upper() for n in a_list]\n",
    "#12, 23, 17\n",
    "a_list_upper_1 = [i[0] for i in a_list_upper]\n",
    "print(a_list_upper_1)\n",
    "    \n",
    "a_list_upper_1_alphabet = []\n",
    "for i in a_list_upper_1:\n",
    "    a_list_upper_1_alphabet.append(alphabet_list.index(i))\n",
    "    \n",
    "print(a_list_upper_1_alphabet)\n",
    "first = 'M' #12\n",
    "median = 'X' #23\n",
    "last = 'R' #17\n",
    "\n"
   ]
  },
  {
   "cell_type": "code",
   "execution_count": null,
   "metadata": {
    "tags": []
   },
   "outputs": [],
   "source": [
    "import string\n",
    "alphabet_list = list(string.ascii_uppercase)\n",
    "print()\n",
    "def median_quicksort_by_string_length (str_list):\n",
    "    def quick_sort(A):\n",
    "        quick_sort2(A, 0, len(A)-1)\n",
    "\n",
    "    def quick_sort2(A, low, hi):\n",
    "        if hi-low < threshold and low < hi:\n",
    "            quick_selection(A, low, hi)\n",
    "        elif low < hi:\n",
    "            p = partition(A, low, hi)\n",
    "            quick_sort2(A, low, p - 1)\n",
    "            quick_sort2(A, p + 1, hi)\n",
    "\n",
    "    def get_pivot(A, low, hi):\n",
    "        mid = (hi + low) // 2\n",
    "        s = sorted([A[low], A[mid], A[hi]])\n",
    "        if s[1] == A[low]:\n",
    "            return low\n",
    "        elif s[1] == A[mid]:\n",
    "            return mid\n",
    "        return hi\n",
    "\n",
    "    def partition(A, low, hi):\n",
    "        pivotIndex = get_pivot(A, low, hi)\n",
    "        pivotValue = A[pivotIndex]\n",
    "        A[pivotIndex], A[low] = A[low], A[pivotIndex]\n",
    "        border = low\n",
    "\n",
    "        for i in range(low, hi+1):\n",
    "            if A[i] < pivotValue:\n",
    "                border += 1\n",
    "                A[i], A[border] = A[border], A[i]\n",
    "        A[low], A[border] = A[border], A[low]\n",
    "\n",
    "        return (border)\n",
    "\n",
    "    def quick_selection(x, first, last):\n",
    "        for i in range (first, last):\n",
    "            minIndex = i\n",
    "            for j in range (i+1, last+1):\n",
    "                if x[j] < x[minIndex]:\n",
    "                    minIndex = j\n",
    "            if minIndex != i:\n",
    "                x[i], x[minIndex] = x[minIndex], x[i]\n",
    "            "
   ]
  },
  {
   "cell_type": "code",
   "execution_count": null,
   "metadata": {},
   "outputs": [],
   "source": [
    "def bubble(array):\n",
    "    swapped = False\n",
    "    for i in range(2):\n",
    "        if(array[i] > array[i+1]):\n",
    "            array[i],array[i+1] = array[i+1],array[i]\n",
    "            swapped = True\n",
    "    if not swapped:\n",
    "        return array\n",
    "    else:\n",
    "        return bubble(array)\n",
    "\n",
    "def quicksort(arr, left, right):\n",
    "    if(len(arr[left:right+1])>2):\n",
    "        middle = (left + right)//2\n",
    "        three = bubble([arr[left], arr[middle], arr[right]])\n",
    "        if(three[1] == arr[left]):\n",
    "            pivot = left\n",
    "        elif(three[1] == arr[right]):\n",
    "            pivot = right\n",
    "        else:\n",
    "            pivot = middle\n",
    "    else:\n",
    "        pivot = right\n",
    "\n",
    "    left_index = left\n",
    "    right_index = right\n",
    "    while(left_index<=right_index):\n",
    "        if(left_index == pivot):\n",
    "            left_index += 1\n",
    "        if(right_index == pivot):\n",
    "            right_index -= 1\n",
    "\n",
    "        if(arr[left_index] > arr[pivot]):\n",
    "            if(arr[right_index] < arr[pivot]):\n",
    "                arr[left_index], arr[right_index] = arr[right_index],arr[left_index]\n",
    "                left_index += 1\n",
    "                right_index -= 1\n",
    "            else:\n",
    "                right_index -= 1\n",
    "        else:\n",
    "            left_index += 1\n",
    "\n",
    "    if(left_index < pivot):\n",
    "        arr[left_index], arr[pivot] = arr[pivot],arr[left_index] \n",
    "        pivot = left_index\n",
    "    elif(right_index > pivot):\n",
    "        arr[right_index], arr[pivot] = arr[pivot],arr[right_index]\n",
    "        pivot = right_index\n",
    "\n",
    "    if(len(arr[left:pivot]) > 1):\n",
    "        quicksort(arr, left, pivot-1)\n",
    "    if(len(arr[pivot+1:right]) > 1):\n",
    "        quicksort(arr, pivot+1,right)\n",
    "    return arr\n",
    "A = ['M', 'V', 'T', 'X', 'F', 'B', 'R']\n",
    "quicksort(A, 0, len(A)-1)\n",
    "print(A)"
   ]
  },
  {
   "cell_type": "markdown",
   "metadata": {},
   "source": [
    "\n",
    "Write a function defined as:\n",
    "```python\n",
    "def binary_search_tuples_by_second_value (tu_list,  match):\n",
    "```\n",
    "that implements a binary search to find the second element in a list of tuples sorted by the second value in the tuple returning the tuple found at the index of the first match or False when the match is not found.\n",
    "\n",
    "For example:\n",
    "```python\n",
    "# because the tuple (1,2) has '2' in the second position.\n",
    "binary_search_tuples_by_second_value ([(1,2),(1,4),(3,5),(5,7)], 2) == (1, 2)\n",
    "```"
   ]
  },
  {
   "cell_type": "code",
   "execution_count": null,
   "metadata": {},
   "outputs": [],
   "source": [
    "# def binary_search_tuples_by_second_value (tu_list,  match):\n",
    "#     list_tu = []\n",
    "#     for i in range(len(tuple_list)):\n",
    "#         list_tu.append(tuple_list[i][1])\n",
    "\n",
    "#     def binary_search(list_tu, low, high, match):\n",
    "#         # Check base case\n",
    "#         if high >= low:\n",
    "#             mid = (high + low) // 2\n",
    "#             if list_tu[mid] == match:\n",
    "#                 return  list_tu[mid]\n",
    "#             elif list_tu[mid] > match:\n",
    "#                 return binary_search(list_tu, low, mid - 1, match)\n",
    "#             else:\n",
    "#                 return binary_search(list_tu, mid + 1, high, match)\n",
    "#         else:\n",
    "#             return False\n",
    "#     result = binary_search(list_tu,0,len(list_tu)-1, 2)\n",
    "#     for i in range(len(list_tu)):\n",
    "#         if tu_list[i][1] == result:\n",
    "#             return tu_list[i]\n",
    "# binary_search_tuples_by_second_value ([(1,2),(1,4),(3,5),(5,7)], 5)\n"
   ]
  },
  {
   "cell_type": "code",
   "execution_count": null,
   "metadata": {},
   "outputs": [],
   "source": [
    "def binary_search_tuples_by_second_value (tu_list,  match):\n",
    "    # Write your solution here\n",
    "    #use list comprehension, drag the item to the list\n",
    "    q8_temp_list=[x[1] for x in tu_list]\n",
    "    low=0\n",
    "    high=len(q8_temp_list)-1 \n",
    "    mid =0\n",
    "    while low<=high:\n",
    "        mid=(high+low)//2\n",
    "        #when the match is found\n",
    "        if q8_temp_list[mid] == match:\n",
    "            return tu_list[mid]\n",
    "        elif match < q8_temp_list[mid]:\n",
    "            high=mid-1\n",
    "        elif q8_temp_list[mid]<match :\n",
    "            low = mid+1\n",
    "    if low >high:\n",
    "        return False\n",
    "binary_search_tuples_by_second_value ([(1,2),(1,4),(3,5),(5,7)], 5)\n"
   ]
  },
  {
   "cell_type": "markdown",
   "metadata": {},
   "source": [
    "\n",
    "Write a function defined as:\n",
    "```python\n",
    "def sinking_sort_list_by_value (un_list):\n",
    "```\n",
    "that performs a **bubble sort** to sort a list by **descending value** (aka: *sinking sort*) and returns a list of (original_location, value) tuples with the 1st item reflecting the original position of the value in the list.\n",
    "\n",
    "For example, a list like:\n",
    "```python\n",
    "[6, 2, 1, 5, 4]\n",
    "```\n",
    "returns:\n",
    "```python\n",
    "[(0, 6), (3, 5), (4, 4), (1, 2), (2, 1)]\n",
    "```\n",
    "which has (i, v) tuples sorted in descending order v, where i is the index in the original list. "
   ]
  },
  {
   "cell_type": "code",
   "execution_count": null,
   "metadata": {
    "tags": []
   },
   "outputs": [],
   "source": [
    "def sinking_sort_list_by_value (un_list):\n",
    "    tuple_return = tuple()\n",
    "    org_list = list(un_list)\n",
    "    last_element_index = len(un_list) - 1\n",
    "    for pass_number in range(last_element_index, 0, -1):\n",
    "        for index in range(pass_number):\n",
    "            if un_list[index] < un_list[index + 1]:\n",
    "                un_list[index], un_list[index + 1] = un_list[index + 1], un_list[index]\n",
    "    index_in_tuple_return = []\n",
    "    for i in un_list:     \n",
    "        index_in_tuple_return.append(org_list.index(i))\n",
    "    TT = list(dict(zip(index_in_tuple_return,un_list )).items())\n",
    "    return TT\n",
    "    \n",
    "data = [6, 2, 1, 5, 4]\n",
    "sinking_sort_list_by_value(data)"
   ]
  },
  {
   "cell_type": "markdown",
   "metadata": {},
   "source": [
    "\n",
    "Write a function defined as: \n",
    "```python\n",
    "def sort_floats_to_list (source):\n",
    "```\n",
    "that performs a sort of any type on a source list of unsorted floats and returns a destination list that will contain the sorted data. An in place sort may not be used and the source list must remain unchanged.\n",
    "\n",
    "For example:\n",
    "```python\n",
    "in_list = [19.8, 1.1, 16.9, 0.1, -7.6]\n",
    "out_list = sort_floats_to_list (in_list)\n",
    "```\n",
    "returns:\n",
    "```python\n",
    "[-7.6, 0.1, 1.1, 16.9, 19.8]\n",
    "```\n",
    "while the source in_list is unchanged."
   ]
  },
  {
   "cell_type": "code",
   "execution_count": null,
   "metadata": {
    "tags": []
   },
   "outputs": [],
   "source": [
    "def sort_floats_to_list (source):\n",
    "    # Write your solution here\n",
    "    source_copy=source.copy()\n",
    "    last_element_index = len(source_copy) - 1\n",
    "    for pass_number in range(last_element_index, 0, -1):\n",
    "        for index in range(pass_number):\n",
    "            \n",
    "            if source_copy[index] > source_copy[index + 1]:\n",
    "                source_copy[index], source_copy[index + 1] = source_copy[index + 1], source_copy[index]\n",
    "    return source_copy\n",
    "    "
   ]
  },
  {
   "cell_type": "markdown",
   "metadata": {},
   "source": [
    "\n",
    "Write a function defined as: \n",
    "```python\n",
    "def search_float_with_tolerance (or_list, match, tolerance = 0.5):\n",
    "```\n",
    "that will accepts an ordered list of floats and a tolerance that performs a search of any type for a float and returns the first value that matches plus or minus the tolerance or returns False if no value is found within that tolerance such that:\n",
    "```python\n",
    "(match - tolerance) < match < (match + tolerance)\n",
    "````    "
   ]
  },
  {
   "cell_type": "code",
   "execution_count": null,
   "metadata": {},
   "outputs": [],
   "source": [
    "def search_float_with_tolerance(or_list, match,tolerance = 0.5):\n",
    "    low = 0\n",
    "    high = len(or_list) - 1\n",
    " \n",
    "    while low <= high:\n",
    "        mid = (high + low) // 2       \n",
    "        if or_list[mid] == match:\n",
    "            return or_list[mid]\n",
    "        elif (or_list[mid] - tolerance) <= match and (or_list[mid] + tolerance) >= match:\n",
    "            return or_list[mid]\n",
    "        elif or_list[mid] < match:\n",
    "            low = mid + 1\n",
    "        elif or_list[mid] > match:\n",
    "            high = mid - 1\n",
    "    return False\n",
    " \n",
    "search_float_with_tolerance([-7.6, 0.1, 1.1, 16.9, 19.8], 0)"
   ]
  },
  {
   "cell_type": "markdown",
   "metadata": {},
   "source": [
    "\n",
    "Write a function defined as:\n",
    "```python\n",
    "def search_num_matches (or_list, match):\n",
    "```\n",
    "that implements a search of any type on ordered data and returns the number of elements that match a value or False if no match is found.\n"
   ]
  },
  {
   "cell_type": "code",
   "execution_count": null,
   "metadata": {},
   "outputs": [],
   "source": [
    "def first_occurrence (or_list,match) :\n",
    "    low = 0\n",
    "    high = len(or_list) - 1\n",
    "    while low <= high :\n",
    "        mid = (low + high)//2\n",
    "        if or_list[mid] == match :\n",
    "            if mid-1 >= 0 and or_list[mid-1] == n :\n",
    "                high = mid-1\n",
    "                continue\n",
    "            return mid\n",
    "        elif (or_list[mid] < match) :\n",
    "            low = mid + 1 \n",
    "        else :\n",
    "            high = mid - 1 \n",
    "    return -1  \n",
    "\n",
    "def last_occurrence (or_list,match) :\n",
    "    low = 0\n",
    "    high = len(or_list) - 1\n",
    "    while low<=high :\n",
    "        mid = (low + high)//2\n",
    "        if or_list[mid] == match :\n",
    "            if mid+1 < len(or_list) and or_list[mid+1] == n :\n",
    "                low = mid + 1 \n",
    "                continue\n",
    "            return mid \n",
    "        elif (or_list[mid] < match) :\n",
    "            low = mid + 1 \n",
    "        else :\n",
    "            high = mid - 1\n",
    "    return -1\n",
    "\n",
    "array = [-7.6, 0.1, 1.1, 16.9, 19.8]\n",
    "n = 5\n",
    "\n",
    "first_index = first_occurrence (array, )\n",
    "last_index  = last_occurrence (array, n)\n",
    "\n",
    "if (first_index == -1 or last_index == - 1) :\n",
    "    print(\"Element does not exist\")\n",
    "else :\n",
    "    print(\"First occurrence of \" + str(n) + \" is at index : \" + str(first_index))\n",
    "    print(\"Last occurrence of \" + str(n) + \" is at index : \" + str(last_index))\n",
    "    print(\"Total count : \"+ str(last_index - first_index + 1)) \n"
   ]
  },
  {
   "cell_type": "code",
   "execution_count": null,
   "metadata": {},
   "outputs": [],
   "source": [
    "def search_num_matches (or_list, match):\n",
    "    \n",
    "    def binary(ls,match,low,high,count):\n",
    "        if low <high:\n",
    "            mid = (low+high)//2\n",
    "            if ls[mid]== match:\n",
    "                count+=1\n",
    "                ls.remove(match)\n",
    "                return binary(ls,match,low,high,count)\n",
    "            elif match <ls[mid]:\n",
    "                return binary(ls,match,low,mid-1,count)\n",
    "            else:\n",
    "                return binary(ls,match,mid+1,high,count)\n",
    "        if count>0:\n",
    "            return count\n",
    "        return False\n",
    "    \n",
    "    return binary(or_list,match, 0,len(or_list)-1, 0 )\n",
    "ls = [0,3,3,5,5,6,8,12,12,12,12]\n",
    "search_num_matches(ls,5)\n",
    "search_num_matches([12, 15, 24, 39, 102, 102, 102, 339, 470], 12)\n"
   ]
  },
  {
   "cell_type": "code",
   "execution_count": null,
   "metadata": {},
   "outputs": [],
   "source": [
    "def search_num_matches (or_list, match):\n",
    "    def itr_binary(ls,match,low,high):\n",
    "        count =0\n",
    "        while low<high:\n",
    "            mid = (low+high)//2\n",
    "            if (ls[mid]== match):\n",
    "                count+=1\n",
    "                ls.remove(match)\n",
    "            elif match <ls[mid]:\n",
    "                high = mid -1\n",
    "            else:\n",
    "                low = mid+1\n",
    "        if count>0:\n",
    "            return count\n",
    "        return False\n",
    "    return itr_binary(or_list,match,0,len(or_list)-1)\n",
    "ls = [0,3,3,5,5,6,8,12,12,12,12]\n",
    "search_num_matches(ls,5)      \n"
   ]
  },
  {
   "cell_type": "code",
   "execution_count": null,
   "metadata": {},
   "outputs": [],
   "source": [
    "def search_num_matches (or_list, match):\n",
    "    count = 0 \n",
    "    for i in or_list:\n",
    "        if i == match:\n",
    "            count +=1\n",
    "    if count > 0:\n",
    "        return count\n",
    "    else:\n",
    "        return False\n",
    "search_num_matches([12, 15, 24, 39, 102, 102, 102, 339, 470], 12)\n"
   ]
  },
  {
   "cell_type": "code",
   "execution_count": null,
   "metadata": {},
   "outputs": [],
   "source": []
  }
 ],
 "metadata": {
  "kernelspec": {
   "display_name": "Python 3 (ipykernel)",
   "language": "python",
   "name": "python3"
  },
  "language_info": {
   "codemirror_mode": {
    "name": "ipython",
    "version": 3
   },
   "file_extension": ".py",
   "mimetype": "text/x-python",
   "name": "python",
   "nbconvert_exporter": "python",
   "pygments_lexer": "ipython3",
   "version": "3.9.7"
  },
  "otter": {
   "tests": {
    "Question 01": {
     "name": "Question 01",
     "points": 5,
     "suites": [
      {
       "cases": [],
       "scored": true,
       "setup": "",
       "teardown": "",
       "type": "doctest"
      }
     ]
    },
    "Question 02": {
     "name": "Question 02",
     "points": 5,
     "suites": [
      {
       "cases": [],
       "scored": true,
       "setup": "",
       "teardown": "",
       "type": "doctest"
      }
     ]
    },
    "Question 03": {
     "name": "Question 03",
     "points": 5,
     "suites": [
      {
       "cases": [],
       "scored": true,
       "setup": "",
       "teardown": "",
       "type": "doctest"
      }
     ]
    },
    "Question 04": {
     "name": "Question 04",
     "points": 5,
     "suites": [
      {
       "cases": [],
       "scored": true,
       "setup": "",
       "teardown": "",
       "type": "doctest"
      }
     ]
    },
    "Question 05": {
     "name": "Question 05",
     "points": 10,
     "suites": [
      {
       "cases": [],
       "scored": true,
       "setup": "",
       "teardown": "",
       "type": "doctest"
      }
     ]
    },
    "Question 06": {
     "name": "Question 06",
     "points": 10,
     "suites": [
      {
       "cases": [],
       "scored": true,
       "setup": "",
       "teardown": "",
       "type": "doctest"
      }
     ]
    },
    "Question 07": {
     "name": "Question 07",
     "points": 10,
     "suites": [
      {
       "cases": [],
       "scored": true,
       "setup": "",
       "teardown": "",
       "type": "doctest"
      }
     ]
    },
    "Question 08": {
     "name": "Question 08",
     "points": 10,
     "suites": [
      {
       "cases": [],
       "scored": true,
       "setup": "",
       "teardown": "",
       "type": "doctest"
      }
     ]
    },
    "Question 09": {
     "name": "Question 09",
     "points": 10,
     "suites": [
      {
       "cases": [],
       "scored": true,
       "setup": "",
       "teardown": "",
       "type": "doctest"
      }
     ]
    },
    "Question 10": {
     "name": "Question 10",
     "points": 10,
     "suites": [
      {
       "cases": [],
       "scored": true,
       "setup": "",
       "teardown": "",
       "type": "doctest"
      }
     ]
    },
    "Question 11": {
     "name": "Question 11",
     "points": 10,
     "suites": [
      {
       "cases": [],
       "scored": true,
       "setup": "",
       "teardown": "",
       "type": "doctest"
      }
     ]
    },
    "Question 12": {
     "name": "Question 12",
     "points": 10,
     "suites": [
      {
       "cases": [],
       "scored": true,
       "setup": "",
       "teardown": "",
       "type": "doctest"
      }
     ]
    },
    "q1": {
     "name": "q1",
     "points": 1,
     "suites": [
      {
       "cases": [],
       "scored": true,
       "setup": "",
       "teardown": "",
       "type": "doctest"
      }
     ]
    },
    "q10": {
     "name": "q10",
     "points": 4,
     "suites": [
      {
       "cases": [],
       "scored": true,
       "setup": "",
       "teardown": "",
       "type": "doctest"
      }
     ]
    },
    "q11": {
     "name": "q11",
     "points": 6,
     "suites": [
      {
       "cases": [],
       "scored": true,
       "setup": "",
       "teardown": "",
       "type": "doctest"
      }
     ]
    },
    "q12": {
     "name": "q12",
     "points": 6,
     "suites": [
      {
       "cases": [],
       "scored": true,
       "setup": "",
       "teardown": "",
       "type": "doctest"
      }
     ]
    },
    "q13": {
     "name": "q13",
     "points": 6,
     "suites": [
      {
       "cases": [],
       "scored": true,
       "setup": "",
       "teardown": "",
       "type": "doctest"
      }
     ]
    },
    "q14": {
     "name": "q14",
     "points": 6,
     "suites": [
      {
       "cases": [],
       "scored": true,
       "setup": "",
       "teardown": "",
       "type": "doctest"
      }
     ]
    },
    "q15": {
     "name": "q15",
     "points": 6,
     "suites": [
      {
       "cases": [],
       "scored": true,
       "setup": "",
       "teardown": "",
       "type": "doctest"
      }
     ]
    },
    "q16": {
     "name": "q16",
     "points": 6,
     "suites": [
      {
       "cases": [],
       "scored": true,
       "setup": "",
       "teardown": "",
       "type": "doctest"
      }
     ]
    },
    "q17": {
     "name": "q17",
     "points": 8,
     "suites": [
      {
       "cases": [],
       "scored": true,
       "setup": "",
       "teardown": "",
       "type": "doctest"
      }
     ]
    },
    "q18": {
     "name": "q18",
     "points": 8,
     "suites": [
      {
       "cases": [],
       "scored": true,
       "setup": "",
       "teardown": "",
       "type": "doctest"
      }
     ]
    },
    "q19": {
     "name": "q19",
     "points": 12,
     "suites": [
      {
       "cases": [],
       "scored": true,
       "setup": "",
       "teardown": "",
       "type": "doctest"
      }
     ]
    },
    "q2": {
     "name": "q2",
     "points": 1,
     "suites": [
      {
       "cases": [],
       "scored": true,
       "setup": "",
       "teardown": "",
       "type": "doctest"
      }
     ]
    },
    "q20": {
     "name": "q20",
     "points": 12,
     "suites": [
      {
       "cases": [],
       "scored": true,
       "setup": "",
       "teardown": "",
       "type": "doctest"
      }
     ]
    },
    "q3": {
     "name": "q3",
     "points": 1,
     "suites": [
      {
       "cases": [],
       "scored": true,
       "setup": "",
       "teardown": "",
       "type": "doctest"
      }
     ]
    },
    "q4": {
     "name": "q4",
     "points": 1,
     "suites": [
      {
       "cases": [],
       "scored": true,
       "setup": "",
       "teardown": "",
       "type": "doctest"
      }
     ]
    },
    "q5": {
     "name": "q5",
     "points": 2,
     "suites": [
      {
       "cases": [],
       "scored": true,
       "setup": "",
       "teardown": "",
       "type": "doctest"
      }
     ]
    },
    "q6": {
     "name": "q6",
     "points": 2,
     "suites": [
      {
       "cases": [],
       "scored": true,
       "setup": "",
       "teardown": "",
       "type": "doctest"
      }
     ]
    },
    "q7": {
     "name": "q7",
     "points": 4,
     "suites": [
      {
       "cases": [],
       "scored": true,
       "setup": "",
       "teardown": "",
       "type": "doctest"
      }
     ]
    },
    "q8": {
     "name": "q8",
     "points": 4,
     "suites": [
      {
       "cases": [],
       "scored": true,
       "setup": "",
       "teardown": "",
       "type": "doctest"
      }
     ]
    },
    "q9": {
     "name": "q9",
     "points": 4,
     "suites": [
      {
       "cases": [],
       "scored": true,
       "setup": "",
       "teardown": "",
       "type": "doctest"
      }
     ]
    }
   }
  },
  "varInspector": {
   "cols": {
    "lenName": 16,
    "lenType": 16,
    "lenVar": 40
   },
   "kernels_config": {
    "python": {
     "delete_cmd_postfix": "",
     "delete_cmd_prefix": "del ",
     "library": "var_list.py",
     "varRefreshCmd": "print(var_dic_list())"
    },
    "r": {
     "delete_cmd_postfix": ") ",
     "delete_cmd_prefix": "rm(",
     "library": "var_list.r",
     "varRefreshCmd": "cat(var_dic_list()) "
    }
   },
   "types_to_exclude": [
    "module",
    "function",
    "builtin_function_or_method",
    "instance",
    "_Feature"
   ],
   "window_display": false
  }
 },
 "nbformat": 4,
 "nbformat_minor": 4
}
