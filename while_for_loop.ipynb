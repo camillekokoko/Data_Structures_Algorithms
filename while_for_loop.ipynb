{
 "cells": [
  {
   "cell_type": "markdown",
   "metadata": {},
   "source": [
    "Maximum and minimum"
   ]
  },
  {
   "cell_type": "markdown",
   "metadata": {
    "deletable": false,
    "editable": false
   },
   "source": [
    "<!-- BEGIN QUESTION -->\n",
    "\n",
    "Please complete the function below that return the element with minimum value in a given list. You need to complete the functions using three different loop techniques: `while`, `for`, and `for + range` respectively. \n",
    "\n",
    "Note that you will **NOT** get marks if you use the built-in Python function such as `sort()`, `min()`, or `max()`."
   ]
  },
  {
   "cell_type": "code",
   "execution_count": 1,
   "metadata": {
    "tags": []
   },
   "outputs": [
    {
     "name": "stdout",
     "output_type": "stream",
     "text": [
      "2 : 2 : 2\n",
      "-7 : -7 : -7\n"
     ]
    }
   ],
   "source": [
    "import math\n",
    "\n",
    "def min_for(li): # for loop\n",
    "    # INSERT YOUR CODE BELOW\n",
    "    # ~ 4 lines\n",
    "    if len(li) == 0:\n",
    "        return None\n",
    "    \n",
    "    m = math.inf\n",
    "    for num in li:\n",
    "        if num < m:\n",
    "            m = num \n",
    "    return m\n",
    "\n",
    "\n",
    "def min_while(li): # while loop\n",
    "    # INSERT YOUR CODE BELOW\n",
    "    # ~ 4 lines\n",
    "    if len(li) == 0:\n",
    "        return None\n",
    "    \n",
    "    m = math.inf\n",
    "    i = 0\n",
    "    while i < len(li):\n",
    "        if li[i] < m:\n",
    "            m = li[i]\n",
    "        i += 1\n",
    "    return m\n",
    "\n",
    "def min_range(li): # for + range\n",
    "    # INSERT YOUR CODE BELOW\n",
    "    # ~ 4 lines\n",
    "    if len(li) == 0:\n",
    "        return None\n",
    "\n",
    "    m = math.inf\n",
    "    for i in range(len(li)):\n",
    "        if li[i] < m:\n",
    "            m = li[i]\n",
    "    return m\n",
    "\n",
    "\n",
    "# ================\n",
    "# TEST CASES BELOW\n",
    "def test(li):\n",
    "    v1 = min_for(li)\n",
    "    v2 = min_while(li)\n",
    "    v3 = min_range(li)\n",
    "    print(f'{v1} : {v2} : {v3}')\n",
    "\n",
    "li = [3, 4, 2, 15, 17, 30, 5, 45]\n",
    "test(li) # 2 : 2 : 2\n",
    "\n",
    "li = [5, 8, 12, -5, -7]\n",
    "test(li) #-7 : -7 : -7"
   ]
  },
  {
   "cell_type": "markdown",
   "metadata": {
    "deletable": false,
    "editable": false
   },
   "source": [
    "palindrome check"
   ]
  },
  {
   "cell_type": "markdown",
   "metadata": {},
   "source": [
    "A **palindrome** is a word, phrase, number or sequence of words that reads the same backward as forward. Please follow the instructions below, in sequence, to complete your palindrome check function."
   ]
  },
  {
   "cell_type": "markdown",
   "metadata": {},
   "source": [
    "### Task 2.1 \n",
    "\n",
    "Complete the function `reverse_string` function that takes one string and return its reverse."
   ]
  },
  {
   "cell_type": "code",
   "execution_count": 2,
   "metadata": {
    "tags": []
   },
   "outputs": [
    {
     "name": "stdout",
     "output_type": "stream",
     "text": [
      ".tset\n"
     ]
    }
   ],
   "source": [
    "def reverse_string(s):\n",
    "    ns=''    \n",
    "    for c in s:\n",
    "        # COMPLETE THE CODE BELOW\n",
    "        # ~ 1 LINE        \n",
    "        ns = c + ns\n",
    "    return ns\n",
    "\n",
    "\n",
    "#################\n",
    "#while loop\n",
    "#def reverse_string(s):\n",
    "#    ns = ''\n",
    "#    index = len(s) - 1\n",
    "    index = 0\n",
    "#    \n",
    "#    while index >= 0:\n",
    "#        ns += s[index]\n",
    "#        index -= 1\n",
    "\n",
    "            index += 1\n",
    "#    return ns\n",
    "\n",
    "\n",
    "# ================\n",
    "# TEST CASES BELOW\n",
    "s = reverse_string('test.')\n",
    "print(s) # '.tset'"
   ]
  },
  {
   "cell_type": "markdown",
   "metadata": {},
   "source": [
    "### Task 2.2"
   ]
  },
  {
   "cell_type": "markdown",
   "metadata": {
    "deletable": false,
    "editable": false
   },
   "source": [
    "Please write a `compare_string` function that compare if two strings are identical. The spec of the function is\n",
    "- it has two parameters `str1` and `str2`. You can assume `str1` and `str2` have same length.\n",
    "- it returns `-1` if the content of str1 is identical to str2 (as a practice, please compare both string character by character.)\n",
    "- it returns an integer `n`, where `n` is the index of the first character that is different between `str1` and `str2`\n",
    "\n",
    "<font color='red'>Note, you should not use built-in string comparison methods. Instead, your code must iterate through each characters and compare</font>"
   ]
  },
  {
   "cell_type": "code",
   "execution_count": 5,
   "metadata": {
    "tags": []
   },
   "outputs": [
    {
     "name": "stdout",
     "output_type": "stream",
     "text": [
      "-1\n",
      "0\n",
      "2\n"
     ]
    }
   ],
   "source": [
    "def compare_string(str1, str2):\n",
    "    r = -1\n",
    "    # INPUT YOUR CODE BELOW\n",
    "    # Iterate through each characters and compare\n",
    "    # ~ 6 LINES\n",
    "    \n",
    "    # for i in range(len(str1)):\n",
    "    #     c1 = str1[i]\n",
    "    #     c2 = str2[i]\n",
    "    #     if c1 != c2:\n",
    "    #         r = i\n",
    "    #         break\n",
    "    # # END SOLUTION\n",
    "    # return r\n",
    "        \n",
    " \n",
    "##############################\n",
    "def compare_string(str1, str2):\n",
    "    r = -1\n",
    "    i = 0\n",
    "    \n",
    "    while i < len(str1) and i < len(str2):\n",
    "        if str1[i] != str2[i]:\n",
    "            r = i\n",
    "            break\n",
    "        i += 1\n",
    "    \n",
    "    # if r == -1:\n",
    "    #     if len(str1) != len(str2):\n",
    "    #         r = len(str1) if len(str1) < len(str2) else len(str2)\n",
    "    \n",
    "    return r\n",
    "        \n",
    "# ================\n",
    "# TEST CASES BELOW\n",
    "a = compare_string('test', 'test')\n",
    "print(a) # -1\n",
    "a = compare_string('xest', 'test') # first char is different\n",
    "print(a) # 0\n",
    "a = compare_string('text', 'test') # 3rd char is different\n",
    "print(a) #                         "
   ]
  },
  {
   "cell_type": "markdown",
   "metadata": {},
   "source": [
    "### Task 2.3 "
   ]
  },
  {
   "cell_type": "markdown",
   "metadata": {
    "deletable": false,
    "editable": false
   },
   "source": [
    "Please write a **is_palindrome** function that\n",
    "- takes one string parameter\n",
    "- return True if the string is a palindrome and return False otherwise"
   ]
  },
  {
   "cell_type": "code",
   "execution_count": 6,
   "metadata": {
    "tags": []
   },
   "outputs": [
    {
     "name": "stdout",
     "output_type": "stream",
     "text": [
      "True\n",
      "True\n",
      "False\n"
     ]
    }
   ],
   "source": [
    "#a word that is the same when you read it forwards from the beginning or backwards from the end\n",
    "#e.g. level, kayak\n",
    "def is_palindrome(s):\n",
    "    # INSERT YOUR CODE BELOW\n",
    "    # USE THE ABOVE TWO FUNCTIONS ABOVE TO COMPLETE THE FUNCTION\n",
    "    # ~ 6 LINES\n",
    "    \n",
    "    \n",
    "    \n",
    "    # step 1 - s = anna | alice \n",
    "    s2 = reverse_string(s)\n",
    "    \n",
    "    #step 2 - compare s and s2 anna | ecilac \n",
    "    rs = reverse_string(s)\n",
    "    r = compare_string(s, rs) s, s1 anna and anna\n",
    "    \n",
    "    if r == -1:\n",
    "        return True\n",
    "    else:\n",
    "        return False\n",
    "    \n",
    "p = is_palindrome('anna') # True\n",
    "print(p)\n",
    "p = is_palindrome('civic') # True\n",
    "print(p)\n",
    "p = is_palindrome('alice') # False\n",
    "print(p)"
   ]
  },
  {
   "cell_type": "markdown",
   "metadata": {},
   "source": [
    "Caesar cipher "
   ]
  },
  {
   "cell_type": "markdown",
   "metadata": {},
   "source": [
    "The Caesar cipher is one of the earliest known and simplest ciphers. It is a type of substitution cipher in which each letter in the plaintext is 'shifted' a certain number of places down the alphabet. For example, with a shift of 2, the word \"hi\", will become \"jk\". Because **h** is replaced by **j**, **i** is replaced by **k**.\n",
    "\n",
    "In this task, you will write a function that encrypts a message with Caesar Cipher and decrypt it back into plaintext. For simplicity, we can assume that the user will only use lowercase letters. "
   ]
  },
  {
   "cell_type": "markdown",
   "metadata": {},
   "source": [
    "Below are some helper code for you. the \n",
    "- char_list containing all 26 lowercase character, \n",
    "- the `.index` function returns the index of a value in the list."
   ]
  },
  {
   "cell_type": "code",
   "execution_count": 15,
   "metadata": {},
   "outputs": [
    {
     "name": "stdout",
     "output_type": "stream",
     "text": [
      "h -> j\n"
     ]
    }
   ],
   "source": [
    "# HELPER CODE\n",
    "char_list = ['a', 'b', 'c', 'd', 'e', 'f', 'g', 'h', 'i', 'j', 'k', 'l', 'm', 'n', 'o', 'p', 'q', 'r', 's', 't', 'u', 'v', 'w', 'x', 'y', 'z']\n",
    "\n",
    "# below is a quick example of shifting the character by 2\n",
    "idx = char_list.index('h')          #get the index of character 'h'\n",
    "idx2 = (idx + 2 ) % len(char_list)  #shift the index by 2\n",
    "new_char = char_list[idx2]          #get the encrypted character using the new index\n",
    "\n",
    "print(f'h -> {new_char}')"
   ]
  },
  {
   "cell_type": "markdown",
   "metadata": {},
   "source": [
    "### Task 3.1 Encrypt\n",
    "\n",
    "Once you understand the code above, please complete the `caesar_encrypt` function below, the function has two parameters\n",
    "- the input string. Note that the input string might contain space character\n",
    "- `n`, the number of shift "
   ]
  },
  {
   "cell_type": "code",
   "execution_count": 13,
   "metadata": {
    "tags": []
   },
   "outputs": [
    {
     "name": "stdout",
     "output_type": "stream",
     "text": [
      "er ettpi e hec\n",
      "smmxa bpm lwkbwz ieig\n"
     ]
    }
   ],
   "source": [
    "# def caesar_encrypt(s, n):\n",
    "#     enc = '' # the encrypted string\n",
    "\n",
    "#     # COMPLETE THE CODE BELOW\n",
    "#     # iterate through each character and shift it by n, you should skip the space character\n",
    "#     # ~ 7 lines\n",
    "#     for c in s:\n",
    "#         if c != ' ':\n",
    "#             idx = char_list.index(c)          \n",
    "#             idx2 = (idx + n ) % len(char_list)  \n",
    "#             enc = enc + char_list[idx2] \n",
    "#         else:\n",
    "#             enc = enc + c\n",
    "#     return enc\n",
    "\n",
    "#very classic question in C ROT13\n",
    "#https://en.wikipedia.org/wiki/ROT13\n",
    "#https://www.w3resource.com/python-exercises/string/python-data-type-string-exercise-25.php\n",
    "###############\n",
    "def caesar_encrypt(s, n):\n",
    "    enc = '' # the encrypted string\n",
    "    i = 0\n",
    "    while i < len(s):\n",
    "        c = s[i]\n",
    "        if c != ' ':\n",
    "            idx = char_list.index(c)\n",
    "            idx2 = (idx + n) % len(char_list) #26\n",
    "            enc = enc + char_list[idx2]\n",
    "        else:\n",
    "            enc = enc + c // enc += c\n",
    "        i += 1\n",
    "    \n",
    "    return enc\n",
    "\n",
    "if item == ' ':\n",
    "    enc = enc = item\n",
    "else \n",
    "# TEST CASES BELOW\n",
    "es = caesar_encrypt('an apple a day', 4)\n",
    "print(es) # er ettpi e hec\n",
    "\n",
    "es = caesar_encrypt('keeps the doctor away', 8)\n",
    "print(es) # smmxa bpm lwkbwz ieig"
   ]
  },
  {
   "cell_type": "markdown",
   "metadata": {},
   "source": [
    "### Task 3.2 Decrypt\n",
    "Following Task 1.1, when the receiver received the encrypted message, a decryptor is needed to translate the encrypted word into a plain one. Please write a program that decrypt the encrypted message.\n"
   ]
  },
  {
   "cell_type": "code",
   "execution_count": 14,
   "metadata": {
    "tags": []
   },
   "outputs": [
    {
     "name": "stdout",
     "output_type": "stream",
     "text": [
      "mz mbbxq m pmk wqqbe ftq paofad mimk\n",
      "an apple a day keeps the doctor away\n"
     ]
    }
   ],
   "source": [
    "def caesar_decrypt(s, n):\n",
    "    # COMPLETE THIS FUNCTION\n",
    "    # HINT: Use the caesar_encrypt but with a different shift :)\n",
    "    # ~1 LINE \n",
    "    return caesar_encrypt(s, -n)\n",
    "\n",
    "# TEST CASE BELOW\n",
    "n = 12\n",
    "s = 'an apple a day keeps the doctor away'\n",
    "es = caesar_encrypt(s, n)\n",
    "print(es) # mz mbbxq m pmk wqqbe ftq paofad mimk\n",
    "ds = caesar_decrypt(es, n)\n",
    "print(ds) # an apple a day keeps the doctor away"
   ]
  },
  {
   "cell_type": "markdown",
   "metadata": {},
   "source": [
    "---"
   ]
  }
 ],
 "metadata": {
  "kernelspec": {
   "display_name": "Python 3 (ipykernel)",
   "language": "python",
   "name": "python3"
  },
  "language_info": {
   "codemirror_mode": {
    "name": "ipython",
    "version": 3
   },
   "file_extension": ".py",
   "mimetype": "text/x-python",
   "name": "python",
   "nbconvert_exporter": "python",
   "pygments_lexer": "ipython3",
   "version": "3.10.6"
  },
  "otter": {
   "OK_FORMAT": true,
   "tests": {
    "Task 3.1": {
     "name": "Task 3.1",
     "points": 15,
     "suites": [
      {
       "cases": [
        {
         "code": ">>> caesar_encrypt('this is a testing string', 5) == 'ymnx nx f yjxynsl xywnsl'\nTrue",
         "failure_message": "Incorrect answer, try again!",
         "hidden": false,
         "locked": false,
         "success_message": "Good job!"
        },
        {
         "code": ">>> caesar_encrypt('adelaide', 23) == \"xabixfab\"\nTrue",
         "failure_message": "Incorrect answer, try again!",
         "hidden": false,
         "locked": false,
         "success_message": "Good job!"
        }
       ],
       "scored": true,
       "setup": "",
       "teardown": "",
       "type": "doctest"
      }
     ]
    },
    "Task1": {
     "name": "Task1",
     "points": 20,
     "suites": [
      {
       "cases": [],
       "scored": true,
       "setup": "",
       "teardown": "",
       "type": "doctest"
      }
     ]
    },
    "Task2.1": {
     "name": "Task2.1",
     "points": 10,
     "suites": [
      {
       "cases": [
        {
         "code": ">>> reverse_string('an apple') == 'elppa na'\nTrue",
         "failure_message": "Incorrect answer, try again!",
         "hidden": false,
         "locked": false,
         "success_message": "Good job!"
        },
        {
         "code": ">>> reverse_string('doctor away') == 'yawa rotcod'\nTrue",
         "failure_message": "Incorrect answer, try again!",
         "hidden": false,
         "locked": false,
         "success_message": "Good job!"
        }
       ],
       "scored": true,
       "setup": "",
       "teardown": "",
       "type": "doctest"
      }
     ]
    },
    "Task2.2": {
     "name": "Task2.2",
     "points": 10,
     "suites": [
      {
       "cases": [
        {
         "code": ">>> compare_string('happy', 'happy') == -1\nTrue",
         "failure_message": "Incorrect answer, try again!",
         "hidden": false,
         "locked": false,
         "success_message": "Good job!"
        },
        {
         "code": ">>> compare_string('habby', 'happy') == 2\nTrue",
         "failure_message": "Incorrect answer, try again!",
         "hidden": false,
         "locked": false,
         "success_message": "Good job!"
        },
        {
         "code": ">>> compare_string('hapBy', 'happy') == 3\nTrue",
         "failure_message": "Incorrect answer, try again!",
         "hidden": false,
         "locked": false,
         "success_message": "Good job!"
        }
       ],
       "scored": true,
       "setup": "",
       "teardown": "",
       "type": "doctest"
      }
     ]
    },
    "Task2.3": {
     "name": "Task2.3",
     "points": 10,
     "suites": [
      {
       "cases": [
        {
         "code": ">>> is_palindrome('apple') == False\nTrue",
         "failure_message": "Incorrect answer, try again!",
         "hidden": false,
         "locked": false,
         "success_message": "Good job!"
        },
        {
         "code": ">>> is_palindrome('civic') == True\nTrue",
         "failure_message": "Incorrect answer, try again!",
         "hidden": false,
         "locked": false,
         "success_message": "Good job!"
        },
        {
         "code": ">>> is_palindrome('kayak') == True\nTrue",
         "failure_message": "Incorrect answer, try again!",
         "hidden": false,
         "locked": false,
         "success_message": "Good job!"
        }
       ],
       "scored": true,
       "setup": "",
       "teardown": "",
       "type": "doctest"
      }
     ]
    },
    "Task3.2": {
     "name": "Task3.2",
     "points": 15,
     "suites": [
      {
       "cases": [
        {
         "code": ">>> caesar_decrypt('xabixfab', 23) == 'adelaide'\nTrue",
         "failure_message": "Incorrect answer, try again!",
         "hidden": false,
         "locked": false,
         "success_message": "Good job!"
        },
        {
         "code": ">>> caesar_decrypt('ixxtm', 8) == 'apple'\nTrue",
         "failure_message": "Incorrect answer, try again!",
         "hidden": false,
         "locked": false,
         "success_message": "Good job!"
        }
       ],
       "scored": true,
       "setup": "",
       "teardown": "",
       "type": "doctest"
      }
     ]
    }
   }
  },
  "vscode": {
   "interpreter": {
    "hash": "d57c152add3a77aa406b6a31edc12b55f0062050fedadc6ea5d152b48566b0e5"
   }
  }
 },
 "nbformat": 4,
 "nbformat_minor": 4
}
